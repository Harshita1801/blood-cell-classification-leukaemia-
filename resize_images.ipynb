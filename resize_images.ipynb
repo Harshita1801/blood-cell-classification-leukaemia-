{
 "cells": [
  {
   "cell_type": "code",
   "execution_count": 1,
   "id": "b1f618d0-81a3-42ec-b31a-0a14117c811c",
   "metadata": {},
   "outputs": [
    {
     "name": "stdout",
     "output_type": "stream",
     "text": [
      "\n",
      "Resizing Benign (1500 images)...\n"
     ]
    },
    {
     "name": "stderr",
     "output_type": "stream",
     "text": [
      "100%|██████████████████████████████████████████████████████████████████████████████| 1500/1500 [00:41<00:00, 36.56it/s]\n"
     ]
    },
    {
     "name": "stdout",
     "output_type": "stream",
     "text": [
      "\n",
      "Resizing [Malignant] Pre-B (1500 images)...\n"
     ]
    },
    {
     "name": "stderr",
     "output_type": "stream",
     "text": [
      "100%|██████████████████████████████████████████████████████████████████████████████| 1500/1500 [00:32<00:00, 45.73it/s]\n"
     ]
    },
    {
     "name": "stdout",
     "output_type": "stream",
     "text": [
      "\n",
      "Resizing [Malignant] Pro-B (1500 images)...\n"
     ]
    },
    {
     "name": "stderr",
     "output_type": "stream",
     "text": [
      "100%|██████████████████████████████████████████████████████████████████████████████| 1500/1500 [00:31<00:00, 47.62it/s]\n"
     ]
    },
    {
     "name": "stdout",
     "output_type": "stream",
     "text": [
      "\n",
      "Resizing [Malignant] early Pre-B (1500 images)...\n"
     ]
    },
    {
     "name": "stderr",
     "output_type": "stream",
     "text": [
      "100%|██████████████████████████████████████████████████████████████████████████████| 1500/1500 [00:29<00:00, 51.17it/s]\n"
     ]
    }
   ],
   "source": [
    "import os\n",
    "from PIL import Image, ImageOps\n",
    "from tqdm import tqdm\n",
    "\n",
    "# === CONFIG ===\n",
    "input_root = 'C:\\\\Users\\\\harsh\\\\jupyter Prgm files\\\\mini project mtech 2nd sem\\\\augmented_output'  # <-- Change this to your input folder\n",
    "output_root = 'Resized_Data'\n",
    "target_size = (244, 244)\n",
    "image_extensions = ('.jpg', '.jpeg', '.png')\n",
    "\n",
    "# These are your 4 class folders\n",
    "classes = [\n",
    "    'Benign',\n",
    "    '[Malignant] Pre-B',\n",
    "    '[Malignant] Pro-B',\n",
    "    '[Malignant] early Pre-B'\n",
    "]\n",
    "\n",
    "# === PROCESSING ===\n",
    "for class_name in classes:\n",
    "    input_dir = os.path.join(input_root, class_name)\n",
    "    clean_class_name = class_name.replace('[', '').replace(']', '').replace(' ', '_')\n",
    "    output_dir = os.path.join(output_root, clean_class_name)\n",
    "    os.makedirs(output_dir, exist_ok=True)\n",
    "\n",
    "    image_files = [f for f in os.listdir(input_dir) if f.lower().endswith(image_extensions)]\n",
    "\n",
    "    print(f\"\\nResizing {class_name} ({len(image_files)} images)...\")\n",
    "    \n",
    "    for img_name in tqdm(image_files):\n",
    "        input_path = os.path.join(input_dir, img_name)\n",
    "        output_path = os.path.join(output_dir, os.path.splitext(img_name)[0] + '.jpg')\n",
    "\n",
    "        try:\n",
    "            img = Image.open(input_path).convert('RGB')\n",
    "            # Resize while preserving aspect ratio and pad if needed\n",
    "            img_resized = ImageOps.pad(img, target_size, method=Image.BILINEAR, color=(0, 0, 0))\n",
    "            img_resized.save(output_path, format='JPEG', quality=95)\n",
    "        except Exception as e:\n",
    "            print(f\"❌ Failed to process {img_name}: {e}\")\n"
   ]
  }
 ],
 "metadata": {
  "kernelspec": {
   "display_name": "Python 3 (ipykernel)",
   "language": "python",
   "name": "python3"
  },
  "language_info": {
   "codemirror_mode": {
    "name": "ipython",
    "version": 3
   },
   "file_extension": ".py",
   "mimetype": "text/x-python",
   "name": "python",
   "nbconvert_exporter": "python",
   "pygments_lexer": "ipython3",
   "version": "3.12.7"
  }
 },
 "nbformat": 4,
 "nbformat_minor": 5
}
